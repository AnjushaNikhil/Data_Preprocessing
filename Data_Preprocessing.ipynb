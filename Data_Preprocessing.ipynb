{
 "cells": [
  {
   "cell_type": "markdown",
   "id": "aaa1e575-347e-4511-bc8d-be1037d3b670",
   "metadata": {},
   "source": [
    "# DATA PREPROCESSING"
   ]
  },
  {
   "cell_type": "markdown",
   "id": "f17b9d93-8c02-4e6b-8996-9dda9e8df0b8",
   "metadata": {},
   "source": [
    "Data preprocessing is a crucial step in Machine Learning where raw data is transformed into a clean, organized format suitable for analysis. This typically involves tasks such as handling missing values, encoding categorical variables, scaling numerical features, and splitting data into training and testing sets. Effective preprocessing ensures that the data is ready for model training, leading to more accurate and reliable predictions."
   ]
  },
  {
   "cell_type": "code",
   "execution_count": 21,
   "id": "9e22048a-2edc-4c4b-9243-66fbfb957a95",
   "metadata": {},
   "outputs": [],
   "source": [
    "# importing libraries\n",
    "import pandas as pd\n",
    "import numpy as np\n",
    "import seaborn as sns\n",
    "import matplotlib.pyplot as plt\n",
    "import math\n",
    "import sklearn"
   ]
  },
  {
   "cell_type": "code",
   "execution_count": 22,
   "id": "5fe20330-7f2a-437d-bdd0-53bad252702b",
   "metadata": {},
   "outputs": [
    {
     "data": {
      "text/html": [
       "<div>\n",
       "<style scoped>\n",
       "    .dataframe tbody tr th:only-of-type {\n",
       "        vertical-align: middle;\n",
       "    }\n",
       "\n",
       "    .dataframe tbody tr th {\n",
       "        vertical-align: top;\n",
       "    }\n",
       "\n",
       "    .dataframe thead th {\n",
       "        text-align: right;\n",
       "    }\n",
       "</style>\n",
       "<table border=\"1\" class=\"dataframe\">\n",
       "  <thead>\n",
       "    <tr style=\"text-align: right;\">\n",
       "      <th></th>\n",
       "      <th>Company</th>\n",
       "      <th>Age</th>\n",
       "      <th>Salary</th>\n",
       "      <th>Place</th>\n",
       "      <th>Country</th>\n",
       "      <th>Gender</th>\n",
       "    </tr>\n",
       "  </thead>\n",
       "  <tbody>\n",
       "    <tr>\n",
       "      <th>0</th>\n",
       "      <td>TCS</td>\n",
       "      <td>20.0</td>\n",
       "      <td>NaN</td>\n",
       "      <td>Chennai</td>\n",
       "      <td>India</td>\n",
       "      <td>0</td>\n",
       "    </tr>\n",
       "    <tr>\n",
       "      <th>1</th>\n",
       "      <td>Infosys</td>\n",
       "      <td>30.0</td>\n",
       "      <td>NaN</td>\n",
       "      <td>Mumbai</td>\n",
       "      <td>India</td>\n",
       "      <td>0</td>\n",
       "    </tr>\n",
       "    <tr>\n",
       "      <th>2</th>\n",
       "      <td>TCS</td>\n",
       "      <td>35.0</td>\n",
       "      <td>2300.0</td>\n",
       "      <td>Calcutta</td>\n",
       "      <td>India</td>\n",
       "      <td>0</td>\n",
       "    </tr>\n",
       "    <tr>\n",
       "      <th>3</th>\n",
       "      <td>Infosys</td>\n",
       "      <td>40.0</td>\n",
       "      <td>3000.0</td>\n",
       "      <td>Delhi</td>\n",
       "      <td>India</td>\n",
       "      <td>0</td>\n",
       "    </tr>\n",
       "    <tr>\n",
       "      <th>4</th>\n",
       "      <td>TCS</td>\n",
       "      <td>23.0</td>\n",
       "      <td>4000.0</td>\n",
       "      <td>Mumbai</td>\n",
       "      <td>India</td>\n",
       "      <td>0</td>\n",
       "    </tr>\n",
       "    <tr>\n",
       "      <th>...</th>\n",
       "      <td>...</td>\n",
       "      <td>...</td>\n",
       "      <td>...</td>\n",
       "      <td>...</td>\n",
       "      <td>...</td>\n",
       "      <td>...</td>\n",
       "    </tr>\n",
       "    <tr>\n",
       "      <th>143</th>\n",
       "      <td>TCS</td>\n",
       "      <td>33.0</td>\n",
       "      <td>9024.0</td>\n",
       "      <td>Calcutta</td>\n",
       "      <td>India</td>\n",
       "      <td>1</td>\n",
       "    </tr>\n",
       "    <tr>\n",
       "      <th>144</th>\n",
       "      <td>Infosys</td>\n",
       "      <td>22.0</td>\n",
       "      <td>8787.0</td>\n",
       "      <td>Calcutta</td>\n",
       "      <td>India</td>\n",
       "      <td>1</td>\n",
       "    </tr>\n",
       "    <tr>\n",
       "      <th>145</th>\n",
       "      <td>Infosys</td>\n",
       "      <td>44.0</td>\n",
       "      <td>4034.0</td>\n",
       "      <td>Delhi</td>\n",
       "      <td>India</td>\n",
       "      <td>1</td>\n",
       "    </tr>\n",
       "    <tr>\n",
       "      <th>146</th>\n",
       "      <td>TCS</td>\n",
       "      <td>33.0</td>\n",
       "      <td>5034.0</td>\n",
       "      <td>Mumbai</td>\n",
       "      <td>India</td>\n",
       "      <td>1</td>\n",
       "    </tr>\n",
       "    <tr>\n",
       "      <th>147</th>\n",
       "      <td>Infosys</td>\n",
       "      <td>22.0</td>\n",
       "      <td>8202.0</td>\n",
       "      <td>Cochin</td>\n",
       "      <td>India</td>\n",
       "      <td>0</td>\n",
       "    </tr>\n",
       "  </tbody>\n",
       "</table>\n",
       "<p>148 rows × 6 columns</p>\n",
       "</div>"
      ],
      "text/plain": [
       "     Company   Age  Salary     Place Country  Gender\n",
       "0        TCS  20.0     NaN   Chennai   India       0\n",
       "1    Infosys  30.0     NaN    Mumbai   India       0\n",
       "2        TCS  35.0  2300.0  Calcutta   India       0\n",
       "3    Infosys  40.0  3000.0     Delhi   India       0\n",
       "4        TCS  23.0  4000.0    Mumbai   India       0\n",
       "..       ...   ...     ...       ...     ...     ...\n",
       "143      TCS  33.0  9024.0  Calcutta   India       1\n",
       "144  Infosys  22.0  8787.0  Calcutta   India       1\n",
       "145  Infosys  44.0  4034.0     Delhi   India       1\n",
       "146      TCS  33.0  5034.0    Mumbai   India       1\n",
       "147  Infosys  22.0  8202.0    Cochin   India       0\n",
       "\n",
       "[148 rows x 6 columns]"
      ]
     },
     "execution_count": 22,
     "metadata": {},
     "output_type": "execute_result"
    }
   ],
   "source": [
    "#loading data\n",
    "df=pd.read_csv('Employee.csv')\n",
    "df"
   ]
  },
  {
   "cell_type": "markdown",
   "id": "6aff3d71-9061-4f58-8bdc-cfd1ffa47579",
   "metadata": {},
   "source": [
    "### DATA EXPLORATION"
   ]
  },
  {
   "cell_type": "code",
   "execution_count": 23,
   "id": "23831574-b2a4-4023-8b2d-99bc2ec043be",
   "metadata": {},
   "outputs": [
    {
     "name": "stdout",
     "output_type": "stream",
     "text": [
      "<class 'pandas.core.frame.DataFrame'>\n",
      "RangeIndex: 148 entries, 0 to 147\n",
      "Data columns (total 6 columns):\n",
      " #   Column   Non-Null Count  Dtype  \n",
      "---  ------   --------------  -----  \n",
      " 0   Company  140 non-null    object \n",
      " 1   Age      130 non-null    float64\n",
      " 2   Salary   124 non-null    float64\n",
      " 3   Place    134 non-null    object \n",
      " 4   Country  148 non-null    object \n",
      " 5   Gender   148 non-null    int64  \n",
      "dtypes: float64(2), int64(1), object(3)\n",
      "memory usage: 7.1+ KB\n"
     ]
    }
   ],
   "source": [
    "# To get info\n",
    "df.info()"
   ]
  },
  {
   "cell_type": "code",
   "execution_count": 24,
   "id": "49e589a7-fe4f-4e4c-bfbf-8da5120ba0bc",
   "metadata": {},
   "outputs": [
    {
     "data": {
      "text/html": [
       "<div>\n",
       "<style scoped>\n",
       "    .dataframe tbody tr th:only-of-type {\n",
       "        vertical-align: middle;\n",
       "    }\n",
       "\n",
       "    .dataframe tbody tr th {\n",
       "        vertical-align: top;\n",
       "    }\n",
       "\n",
       "    .dataframe thead th {\n",
       "        text-align: right;\n",
       "    }\n",
       "</style>\n",
       "<table border=\"1\" class=\"dataframe\">\n",
       "  <thead>\n",
       "    <tr style=\"text-align: right;\">\n",
       "      <th></th>\n",
       "      <th>Company</th>\n",
       "      <th>Age</th>\n",
       "      <th>Salary</th>\n",
       "      <th>Place</th>\n",
       "      <th>Country</th>\n",
       "      <th>Gender</th>\n",
       "    </tr>\n",
       "  </thead>\n",
       "  <tbody>\n",
       "    <tr>\n",
       "      <th>0</th>\n",
       "      <td>TCS</td>\n",
       "      <td>20.0</td>\n",
       "      <td>NaN</td>\n",
       "      <td>Chennai</td>\n",
       "      <td>India</td>\n",
       "      <td>0</td>\n",
       "    </tr>\n",
       "    <tr>\n",
       "      <th>1</th>\n",
       "      <td>Infosys</td>\n",
       "      <td>30.0</td>\n",
       "      <td>NaN</td>\n",
       "      <td>Mumbai</td>\n",
       "      <td>India</td>\n",
       "      <td>0</td>\n",
       "    </tr>\n",
       "    <tr>\n",
       "      <th>2</th>\n",
       "      <td>TCS</td>\n",
       "      <td>35.0</td>\n",
       "      <td>2300.0</td>\n",
       "      <td>Calcutta</td>\n",
       "      <td>India</td>\n",
       "      <td>0</td>\n",
       "    </tr>\n",
       "    <tr>\n",
       "      <th>3</th>\n",
       "      <td>Infosys</td>\n",
       "      <td>40.0</td>\n",
       "      <td>3000.0</td>\n",
       "      <td>Delhi</td>\n",
       "      <td>India</td>\n",
       "      <td>0</td>\n",
       "    </tr>\n",
       "    <tr>\n",
       "      <th>4</th>\n",
       "      <td>TCS</td>\n",
       "      <td>23.0</td>\n",
       "      <td>4000.0</td>\n",
       "      <td>Mumbai</td>\n",
       "      <td>India</td>\n",
       "      <td>0</td>\n",
       "    </tr>\n",
       "  </tbody>\n",
       "</table>\n",
       "</div>"
      ],
      "text/plain": [
       "   Company   Age  Salary     Place Country  Gender\n",
       "0      TCS  20.0     NaN   Chennai   India       0\n",
       "1  Infosys  30.0     NaN    Mumbai   India       0\n",
       "2      TCS  35.0  2300.0  Calcutta   India       0\n",
       "3  Infosys  40.0  3000.0     Delhi   India       0\n",
       "4      TCS  23.0  4000.0    Mumbai   India       0"
      ]
     },
     "execution_count": 24,
     "metadata": {},
     "output_type": "execute_result"
    }
   ],
   "source": [
    "#To display the Top 5 rows\n",
    "df.head()"
   ]
  },
  {
   "cell_type": "code",
   "execution_count": 25,
   "id": "95e4005a-c97c-4765-b38a-2a69b7fc99c5",
   "metadata": {},
   "outputs": [
    {
     "data": {
      "text/html": [
       "<div>\n",
       "<style scoped>\n",
       "    .dataframe tbody tr th:only-of-type {\n",
       "        vertical-align: middle;\n",
       "    }\n",
       "\n",
       "    .dataframe tbody tr th {\n",
       "        vertical-align: top;\n",
       "    }\n",
       "\n",
       "    .dataframe thead th {\n",
       "        text-align: right;\n",
       "    }\n",
       "</style>\n",
       "<table border=\"1\" class=\"dataframe\">\n",
       "  <thead>\n",
       "    <tr style=\"text-align: right;\">\n",
       "      <th></th>\n",
       "      <th>Company</th>\n",
       "      <th>Age</th>\n",
       "      <th>Salary</th>\n",
       "      <th>Place</th>\n",
       "      <th>Country</th>\n",
       "      <th>Gender</th>\n",
       "    </tr>\n",
       "  </thead>\n",
       "  <tbody>\n",
       "    <tr>\n",
       "      <th>143</th>\n",
       "      <td>TCS</td>\n",
       "      <td>33.0</td>\n",
       "      <td>9024.0</td>\n",
       "      <td>Calcutta</td>\n",
       "      <td>India</td>\n",
       "      <td>1</td>\n",
       "    </tr>\n",
       "    <tr>\n",
       "      <th>144</th>\n",
       "      <td>Infosys</td>\n",
       "      <td>22.0</td>\n",
       "      <td>8787.0</td>\n",
       "      <td>Calcutta</td>\n",
       "      <td>India</td>\n",
       "      <td>1</td>\n",
       "    </tr>\n",
       "    <tr>\n",
       "      <th>145</th>\n",
       "      <td>Infosys</td>\n",
       "      <td>44.0</td>\n",
       "      <td>4034.0</td>\n",
       "      <td>Delhi</td>\n",
       "      <td>India</td>\n",
       "      <td>1</td>\n",
       "    </tr>\n",
       "    <tr>\n",
       "      <th>146</th>\n",
       "      <td>TCS</td>\n",
       "      <td>33.0</td>\n",
       "      <td>5034.0</td>\n",
       "      <td>Mumbai</td>\n",
       "      <td>India</td>\n",
       "      <td>1</td>\n",
       "    </tr>\n",
       "    <tr>\n",
       "      <th>147</th>\n",
       "      <td>Infosys</td>\n",
       "      <td>22.0</td>\n",
       "      <td>8202.0</td>\n",
       "      <td>Cochin</td>\n",
       "      <td>India</td>\n",
       "      <td>0</td>\n",
       "    </tr>\n",
       "  </tbody>\n",
       "</table>\n",
       "</div>"
      ],
      "text/plain": [
       "     Company   Age  Salary     Place Country  Gender\n",
       "143      TCS  33.0  9024.0  Calcutta   India       1\n",
       "144  Infosys  22.0  8787.0  Calcutta   India       1\n",
       "145  Infosys  44.0  4034.0     Delhi   India       1\n",
       "146      TCS  33.0  5034.0    Mumbai   India       1\n",
       "147  Infosys  22.0  8202.0    Cochin   India       0"
      ]
     },
     "execution_count": 25,
     "metadata": {},
     "output_type": "execute_result"
    }
   ],
   "source": [
    "#To display the last 5 rows of the DataFrame\n",
    "df.tail()"
   ]
  },
  {
   "cell_type": "code",
   "execution_count": 26,
   "id": "c0fa38cf-7a52-4953-b6ed-a7135f954864",
   "metadata": {},
   "outputs": [
    {
     "data": {
      "text/html": [
       "<div>\n",
       "<style scoped>\n",
       "    .dataframe tbody tr th:only-of-type {\n",
       "        vertical-align: middle;\n",
       "    }\n",
       "\n",
       "    .dataframe tbody tr th {\n",
       "        vertical-align: top;\n",
       "    }\n",
       "\n",
       "    .dataframe thead th {\n",
       "        text-align: right;\n",
       "    }\n",
       "</style>\n",
       "<table border=\"1\" class=\"dataframe\">\n",
       "  <thead>\n",
       "    <tr style=\"text-align: right;\">\n",
       "      <th></th>\n",
       "      <th>Age</th>\n",
       "      <th>Salary</th>\n",
       "      <th>Gender</th>\n",
       "    </tr>\n",
       "  </thead>\n",
       "  <tbody>\n",
       "    <tr>\n",
       "      <th>count</th>\n",
       "      <td>130.000000</td>\n",
       "      <td>124.000000</td>\n",
       "      <td>148.000000</td>\n",
       "    </tr>\n",
       "    <tr>\n",
       "      <th>mean</th>\n",
       "      <td>30.484615</td>\n",
       "      <td>5312.467742</td>\n",
       "      <td>0.222973</td>\n",
       "    </tr>\n",
       "    <tr>\n",
       "      <th>std</th>\n",
       "      <td>11.096640</td>\n",
       "      <td>2573.764683</td>\n",
       "      <td>0.417654</td>\n",
       "    </tr>\n",
       "    <tr>\n",
       "      <th>min</th>\n",
       "      <td>0.000000</td>\n",
       "      <td>1089.000000</td>\n",
       "      <td>0.000000</td>\n",
       "    </tr>\n",
       "    <tr>\n",
       "      <th>25%</th>\n",
       "      <td>22.000000</td>\n",
       "      <td>3030.000000</td>\n",
       "      <td>0.000000</td>\n",
       "    </tr>\n",
       "    <tr>\n",
       "      <th>50%</th>\n",
       "      <td>32.500000</td>\n",
       "      <td>5000.000000</td>\n",
       "      <td>0.000000</td>\n",
       "    </tr>\n",
       "    <tr>\n",
       "      <th>75%</th>\n",
       "      <td>37.750000</td>\n",
       "      <td>8000.000000</td>\n",
       "      <td>0.000000</td>\n",
       "    </tr>\n",
       "    <tr>\n",
       "      <th>max</th>\n",
       "      <td>54.000000</td>\n",
       "      <td>9876.000000</td>\n",
       "      <td>1.000000</td>\n",
       "    </tr>\n",
       "  </tbody>\n",
       "</table>\n",
       "</div>"
      ],
      "text/plain": [
       "              Age       Salary      Gender\n",
       "count  130.000000   124.000000  148.000000\n",
       "mean    30.484615  5312.467742    0.222973\n",
       "std     11.096640  2573.764683    0.417654\n",
       "min      0.000000  1089.000000    0.000000\n",
       "25%     22.000000  3030.000000    0.000000\n",
       "50%     32.500000  5000.000000    0.000000\n",
       "75%     37.750000  8000.000000    0.000000\n",
       "max     54.000000  9876.000000    1.000000"
      ]
     },
     "execution_count": 26,
     "metadata": {},
     "output_type": "execute_result"
    }
   ],
   "source": [
    "#To display the statistical analysis for numerical columns\n",
    "df.describe()"
   ]
  },
  {
   "cell_type": "code",
   "execution_count": 27,
   "id": "a0d1308c-7f90-4aae-a1e3-844df2a8c74e",
   "metadata": {},
   "outputs": [
    {
     "data": {
      "text/plain": [
       "Index(['Company', 'Age', 'Salary', 'Place', 'Country', 'Gender'], dtype='object')"
      ]
     },
     "execution_count": 27,
     "metadata": {},
     "output_type": "execute_result"
    }
   ],
   "source": [
    "#To display  all column names of DataFrame\n",
    "df.columns"
   ]
  },
  {
   "cell_type": "code",
   "execution_count": 28,
   "id": "8769410d-8c3a-4ae6-9271-917da567c03b",
   "metadata": {},
   "outputs": [
    {
     "data": {
      "text/plain": [
       "array(['Chennai', 'Mumbai', 'Calcutta', 'Delhi', 'Podicherry', 'Cochin',\n",
       "       nan, 'Noida', 'Hyderabad', 'Bhopal', 'Nagpur', 'Pune'],\n",
       "      dtype=object)"
      ]
     },
     "execution_count": 28,
     "metadata": {},
     "output_type": "execute_result"
    }
   ],
   "source": [
    "df.Place.unique()"
   ]
  },
  {
   "cell_type": "code",
   "execution_count": 29,
   "id": "8b3ea82b-d2f9-41e7-9094-9884504bf4a2",
   "metadata": {},
   "outputs": [
    {
     "data": {
      "text/plain": [
       "array(['TCS', 'Infosys', 'CTS', nan, 'Tata Consultancy Services',\n",
       "       'Congnizant', 'Infosys Pvt Lmt'], dtype=object)"
      ]
     },
     "execution_count": 29,
     "metadata": {},
     "output_type": "execute_result"
    }
   ],
   "source": [
    "df.Company.unique()"
   ]
  },
  {
   "cell_type": "code",
   "execution_count": 30,
   "id": "3a9ae0bc-bd6f-420e-b09a-c22d1ad84de5",
   "metadata": {},
   "outputs": [
    {
     "data": {
      "text/plain": [
       "array([0, 1], dtype=int64)"
      ]
     },
     "execution_count": 30,
     "metadata": {},
     "output_type": "execute_result"
    }
   ],
   "source": [
    "df.Gender.unique()"
   ]
  },
  {
   "cell_type": "code",
   "execution_count": 31,
   "id": "40910c3e-a51a-4735-ab34-23bf53776006",
   "metadata": {},
   "outputs": [
    {
     "data": {
      "text/plain": [
       "Company     8\n",
       "Age        18\n",
       "Salary     24\n",
       "Place      14\n",
       "Country     0\n",
       "Gender      0\n",
       "dtype: int64"
      ]
     },
     "execution_count": 31,
     "metadata": {},
     "output_type": "execute_result"
    }
   ],
   "source": [
    "#Checking is there any null value\n",
    "df.isnull().sum()"
   ]
  },
  {
   "cell_type": "markdown",
   "id": "a2ea95b7-7774-40e5-a07a-557f14d5f263",
   "metadata": {},
   "source": [
    "### DATA CLEANING"
   ]
  },
  {
   "cell_type": "code",
   "execution_count": 32,
   "id": "d44878af-66ce-43df-a7fa-25fd92f8971b",
   "metadata": {},
   "outputs": [
    {
     "data": {
      "text/html": [
       "<div>\n",
       "<style scoped>\n",
       "    .dataframe tbody tr th:only-of-type {\n",
       "        vertical-align: middle;\n",
       "    }\n",
       "\n",
       "    .dataframe tbody tr th {\n",
       "        vertical-align: top;\n",
       "    }\n",
       "\n",
       "    .dataframe thead th {\n",
       "        text-align: right;\n",
       "    }\n",
       "</style>\n",
       "<table border=\"1\" class=\"dataframe\">\n",
       "  <thead>\n",
       "    <tr style=\"text-align: right;\">\n",
       "      <th></th>\n",
       "      <th>Company</th>\n",
       "      <th>Age</th>\n",
       "      <th>Salary</th>\n",
       "      <th>Place</th>\n",
       "      <th>Country</th>\n",
       "      <th>Gender</th>\n",
       "    </tr>\n",
       "  </thead>\n",
       "  <tbody>\n",
       "    <tr>\n",
       "      <th>0</th>\n",
       "      <td>TCS</td>\n",
       "      <td>20.0</td>\n",
       "      <td>NaN</td>\n",
       "      <td>Chennai</td>\n",
       "      <td>India</td>\n",
       "      <td>0</td>\n",
       "    </tr>\n",
       "    <tr>\n",
       "      <th>1</th>\n",
       "      <td>Infosys</td>\n",
       "      <td>30.0</td>\n",
       "      <td>NaN</td>\n",
       "      <td>Mumbai</td>\n",
       "      <td>India</td>\n",
       "      <td>0</td>\n",
       "    </tr>\n",
       "    <tr>\n",
       "      <th>2</th>\n",
       "      <td>TCS</td>\n",
       "      <td>35.0</td>\n",
       "      <td>2300.0</td>\n",
       "      <td>Calcutta</td>\n",
       "      <td>India</td>\n",
       "      <td>0</td>\n",
       "    </tr>\n",
       "    <tr>\n",
       "      <th>3</th>\n",
       "      <td>Infosys</td>\n",
       "      <td>40.0</td>\n",
       "      <td>3000.0</td>\n",
       "      <td>Delhi</td>\n",
       "      <td>India</td>\n",
       "      <td>0</td>\n",
       "    </tr>\n",
       "    <tr>\n",
       "      <th>4</th>\n",
       "      <td>TCS</td>\n",
       "      <td>23.0</td>\n",
       "      <td>4000.0</td>\n",
       "      <td>Mumbai</td>\n",
       "      <td>India</td>\n",
       "      <td>0</td>\n",
       "    </tr>\n",
       "    <tr>\n",
       "      <th>...</th>\n",
       "      <td>...</td>\n",
       "      <td>...</td>\n",
       "      <td>...</td>\n",
       "      <td>...</td>\n",
       "      <td>...</td>\n",
       "      <td>...</td>\n",
       "    </tr>\n",
       "    <tr>\n",
       "      <th>139</th>\n",
       "      <td>Infosys Pvt Lmt</td>\n",
       "      <td>22.0</td>\n",
       "      <td>8202.0</td>\n",
       "      <td>Mumbai</td>\n",
       "      <td>India</td>\n",
       "      <td>0</td>\n",
       "    </tr>\n",
       "    <tr>\n",
       "      <th>140</th>\n",
       "      <td>TCS</td>\n",
       "      <td>33.0</td>\n",
       "      <td>9024.0</td>\n",
       "      <td>Calcutta</td>\n",
       "      <td>India</td>\n",
       "      <td>1</td>\n",
       "    </tr>\n",
       "    <tr>\n",
       "      <th>141</th>\n",
       "      <td>Infosys</td>\n",
       "      <td>44.0</td>\n",
       "      <td>4034.0</td>\n",
       "      <td>Delhi</td>\n",
       "      <td>India</td>\n",
       "      <td>1</td>\n",
       "    </tr>\n",
       "    <tr>\n",
       "      <th>142</th>\n",
       "      <td>TCS</td>\n",
       "      <td>33.0</td>\n",
       "      <td>5034.0</td>\n",
       "      <td>Mumbai</td>\n",
       "      <td>India</td>\n",
       "      <td>1</td>\n",
       "    </tr>\n",
       "    <tr>\n",
       "      <th>143</th>\n",
       "      <td>Infosys</td>\n",
       "      <td>22.0</td>\n",
       "      <td>8202.0</td>\n",
       "      <td>Cochin</td>\n",
       "      <td>India</td>\n",
       "      <td>0</td>\n",
       "    </tr>\n",
       "  </tbody>\n",
       "</table>\n",
       "<p>144 rows × 6 columns</p>\n",
       "</div>"
      ],
      "text/plain": [
       "             Company   Age  Salary     Place Country  Gender\n",
       "0                TCS  20.0     NaN   Chennai   India       0\n",
       "1            Infosys  30.0     NaN    Mumbai   India       0\n",
       "2                TCS  35.0  2300.0  Calcutta   India       0\n",
       "3            Infosys  40.0  3000.0     Delhi   India       0\n",
       "4                TCS  23.0  4000.0    Mumbai   India       0\n",
       "..               ...   ...     ...       ...     ...     ...\n",
       "139  Infosys Pvt Lmt  22.0  8202.0    Mumbai   India       0\n",
       "140              TCS  33.0  9024.0  Calcutta   India       1\n",
       "141          Infosys  44.0  4034.0     Delhi   India       1\n",
       "142              TCS  33.0  5034.0    Mumbai   India       1\n",
       "143          Infosys  22.0  8202.0    Cochin   India       0\n",
       "\n",
       "[144 rows x 6 columns]"
      ]
     },
     "execution_count": 32,
     "metadata": {},
     "output_type": "execute_result"
    }
   ],
   "source": [
    "#To remove any duplicate records\n",
    "df=df.drop_duplicates()\n",
    "df=df.reset_index(drop=True)\n",
    "df"
   ]
  },
  {
   "cell_type": "code",
   "execution_count": 33,
   "id": "841087fa-dcf2-4732-a410-7a567fc4f9c3",
   "metadata": {},
   "outputs": [],
   "source": [
    "#replacing incorrect data 'Tata Consultancy Services' to 'TCS'\n",
    "df['Company'] = df['Company'].replace('Tata Consultancy Services', 'TCS')"
   ]
  },
  {
   "cell_type": "code",
   "execution_count": 34,
   "id": "f553cb38-89f5-439f-9ce6-b55baa0755c8",
   "metadata": {},
   "outputs": [],
   "source": [
    "#replacing incorrect data 'Infosys Pvt Lmt' to 'TCS'\n",
    "df['Company'] = df['Company'].replace('Infosys Pvt Lmt', 'Infosys')"
   ]
  },
  {
   "cell_type": "code",
   "execution_count": 35,
   "id": "73c50e10-20b3-460d-8a41-bc3dbdeafb9c",
   "metadata": {},
   "outputs": [
    {
     "data": {
      "text/html": [
       "<div>\n",
       "<style scoped>\n",
       "    .dataframe tbody tr th:only-of-type {\n",
       "        vertical-align: middle;\n",
       "    }\n",
       "\n",
       "    .dataframe tbody tr th {\n",
       "        vertical-align: top;\n",
       "    }\n",
       "\n",
       "    .dataframe thead th {\n",
       "        text-align: right;\n",
       "    }\n",
       "</style>\n",
       "<table border=\"1\" class=\"dataframe\">\n",
       "  <thead>\n",
       "    <tr style=\"text-align: right;\">\n",
       "      <th></th>\n",
       "      <th>Company</th>\n",
       "      <th>Age</th>\n",
       "      <th>Salary</th>\n",
       "      <th>Place</th>\n",
       "      <th>Country</th>\n",
       "      <th>Gender</th>\n",
       "    </tr>\n",
       "  </thead>\n",
       "  <tbody>\n",
       "    <tr>\n",
       "      <th>87</th>\n",
       "      <td>Infosys</td>\n",
       "      <td>0.0</td>\n",
       "      <td>3030.0</td>\n",
       "      <td>Calcutta</td>\n",
       "      <td>India</td>\n",
       "      <td>0</td>\n",
       "    </tr>\n",
       "    <tr>\n",
       "      <th>91</th>\n",
       "      <td>TCS</td>\n",
       "      <td>0.0</td>\n",
       "      <td>3045.0</td>\n",
       "      <td>Delhi</td>\n",
       "      <td>India</td>\n",
       "      <td>0</td>\n",
       "    </tr>\n",
       "    <tr>\n",
       "      <th>100</th>\n",
       "      <td>CTS</td>\n",
       "      <td>0.0</td>\n",
       "      <td>2034.0</td>\n",
       "      <td>Podicherry</td>\n",
       "      <td>India</td>\n",
       "      <td>0</td>\n",
       "    </tr>\n",
       "    <tr>\n",
       "      <th>106</th>\n",
       "      <td>TCS</td>\n",
       "      <td>0.0</td>\n",
       "      <td>9024.0</td>\n",
       "      <td>Chennai</td>\n",
       "      <td>India</td>\n",
       "      <td>1</td>\n",
       "    </tr>\n",
       "    <tr>\n",
       "      <th>110</th>\n",
       "      <td>Infosys</td>\n",
       "      <td>0.0</td>\n",
       "      <td>3234.0</td>\n",
       "      <td>Mumbai</td>\n",
       "      <td>India</td>\n",
       "      <td>0</td>\n",
       "    </tr>\n",
       "    <tr>\n",
       "      <th>120</th>\n",
       "      <td>CTS</td>\n",
       "      <td>0.0</td>\n",
       "      <td>1234.0</td>\n",
       "      <td>Calcutta</td>\n",
       "      <td>India</td>\n",
       "      <td>0</td>\n",
       "    </tr>\n",
       "  </tbody>\n",
       "</table>\n",
       "</div>"
      ],
      "text/plain": [
       "     Company  Age  Salary       Place Country  Gender\n",
       "87   Infosys  0.0  3030.0    Calcutta   India       0\n",
       "91       TCS  0.0  3045.0       Delhi   India       0\n",
       "100      CTS  0.0  2034.0  Podicherry   India       0\n",
       "106      TCS  0.0  9024.0     Chennai   India       1\n",
       "110  Infosys  0.0  3234.0      Mumbai   India       0\n",
       "120      CTS  0.0  1234.0    Calcutta   India       0"
      ]
     },
     "execution_count": 35,
     "metadata": {},
     "output_type": "execute_result"
    }
   ],
   "source": [
    "df[df['Age']==0]"
   ]
  },
  {
   "cell_type": "code",
   "execution_count": 36,
   "id": "c0e21409-ceb5-4708-9614-f6163732694d",
   "metadata": {},
   "outputs": [],
   "source": [
    "# Replace 0 with NaN in the \"Age\" column\n",
    "df['Age'] = df['Age'].replace(0.0, np.NaN)"
   ]
  },
  {
   "cell_type": "code",
   "execution_count": 37,
   "id": "b6418bba-c031-45ce-8c8a-e18b36414564",
   "metadata": {},
   "outputs": [
    {
     "data": {
      "text/plain": [
       "Company     8\n",
       "Age        23\n",
       "Salary     23\n",
       "Place      14\n",
       "Country     0\n",
       "Gender      0\n",
       "dtype: int64"
      ]
     },
     "execution_count": 37,
     "metadata": {},
     "output_type": "execute_result"
    }
   ],
   "source": [
    "#Find missing values\n",
    "missing_values = df.isnull().sum()\n",
    "missing_values"
   ]
  },
  {
   "cell_type": "code",
   "execution_count": 38,
   "id": "3ea0a174-3125-43ad-b360-a4019392f21d",
   "metadata": {},
   "outputs": [
    {
     "data": {
      "text/plain": [
       "33"
      ]
     },
     "execution_count": 38,
     "metadata": {},
     "output_type": "execute_result"
    }
   ],
   "source": [
    "mean_age=math.ceil(df['Age'].mean())\n",
    "mean_age"
   ]
  },
  {
   "cell_type": "code",
   "execution_count": 39,
   "id": "8cdcbb2d-470c-44ff-a6c5-0c1a561513e7",
   "metadata": {},
   "outputs": [
    {
     "data": {
      "text/plain": [
       "33"
      ]
     },
     "execution_count": 39,
     "metadata": {},
     "output_type": "execute_result"
    }
   ],
   "source": [
    "median_age=math.ceil(df['Age'].median())\n",
    "median_age"
   ]
  },
  {
   "cell_type": "markdown",
   "id": "a56802c8-f1ef-4970-9ab6-58291ed40af5",
   "metadata": {},
   "source": [
    "There is no significant difference between the mean and medium suggests minimal occurrence of outliers. Therefore,we can confidently replace null values with the mean. "
   ]
  },
  {
   "cell_type": "code",
   "execution_count": 41,
   "id": "387ad3cc-8852-4c90-a36f-91184420fef1",
   "metadata": {},
   "outputs": [],
   "source": [
    "# Replace NaN in the \"Age\" column with mean value\n",
    "df['Age'] = df['Age'].replace(np.NaN, mean_age)"
   ]
  },
  {
   "cell_type": "code",
   "execution_count": 42,
   "id": "d7b9c7e8-eea5-4811-a1c2-8f9a9bc8949d",
   "metadata": {},
   "outputs": [
    {
     "data": {
      "text/plain": [
       "5283.471074380165"
      ]
     },
     "execution_count": 42,
     "metadata": {},
     "output_type": "execute_result"
    }
   ],
   "source": [
    "mean_salary=df['Salary'].mean()\n",
    "mean_salary"
   ]
  },
  {
   "cell_type": "code",
   "execution_count": 43,
   "id": "f6b59f37-789e-475a-89ba-d368f94d2539",
   "metadata": {},
   "outputs": [
    {
     "data": {
      "text/plain": [
       "5000.0"
      ]
     },
     "execution_count": 43,
     "metadata": {},
     "output_type": "execute_result"
    }
   ],
   "source": [
    "median_salary=df['Salary'].median()\n",
    "median_salary"
   ]
  },
  {
   "cell_type": "markdown",
   "id": "519fbe63-8572-4002-8f75-7b5b23d7b3a7",
   "metadata": {},
   "source": [
    "There is no significant difference between the mean and medium suggests minimal occurrence of outliers. Therefore,we can confidently replace null values with the mean.\r\n",
    "\r\n"
   ]
  },
  {
   "cell_type": "code",
   "execution_count": 44,
   "id": "61d9b3ec-520a-4135-956c-32058e46243d",
   "metadata": {},
   "outputs": [],
   "source": [
    "# Replace NaN in the \"Salary\" column with mean value\n",
    "df['Salary'] = df['Salary'].replace(np.NaN, mean_salary)"
   ]
  },
  {
   "cell_type": "markdown",
   "id": "895e8f1d-2d0d-4c08-936f-d03a541bc374",
   "metadata": {},
   "source": [
    "In the Column 'Place' has 14 null values and it has discrete values. Therefore, we can replace null values with mode "
   ]
  },
  {
   "cell_type": "code",
   "execution_count": 46,
   "id": "b20d3c96-0c15-4cff-ba11-97b1269235f0",
   "metadata": {},
   "outputs": [
    {
     "data": {
      "text/plain": [
       "'Mumbai'"
      ]
     },
     "execution_count": 46,
     "metadata": {},
     "output_type": "execute_result"
    }
   ],
   "source": [
    "mode_place=df['Place'].mode()[0]\n",
    "mode_place"
   ]
  },
  {
   "cell_type": "code",
   "execution_count": 47,
   "id": "020bf0d0-2eb7-4d3e-89fc-e9d0c83280a7",
   "metadata": {},
   "outputs": [],
   "source": [
    "# Replace NaN in the \"Place\" column with mode\n",
    "df['Place'] = df['Place'].replace(np.NaN, mode_place)"
   ]
  },
  {
   "cell_type": "code",
   "execution_count": 48,
   "id": "cda9f60f-6131-4706-9e55-bd3be65b338a",
   "metadata": {},
   "outputs": [
    {
     "data": {
      "text/plain": [
       "'TCS'"
      ]
     },
     "execution_count": 48,
     "metadata": {},
     "output_type": "execute_result"
    }
   ],
   "source": [
    "# Handling null values in the Compny column\n",
    "# Since the Company contains discrete values, we can replace the null values with the Mode\n",
    "mode_company=df['Company'].mode()[0]\n",
    "mode_company"
   ]
  },
  {
   "cell_type": "code",
   "execution_count": 49,
   "id": "0c5ff12f-6043-4c9b-bea4-aeda3f893978",
   "metadata": {},
   "outputs": [],
   "source": [
    "df['Company'] = df['Company'].replace(np.NaN, mode_company)"
   ]
  },
  {
   "cell_type": "code",
   "execution_count": 50,
   "id": "6bb523fa-06c2-4f9a-9380-35fe2b8f2090",
   "metadata": {},
   "outputs": [
    {
     "data": {
      "text/plain": [
       "Company    0\n",
       "Age        0\n",
       "Salary     0\n",
       "Place      0\n",
       "Country    0\n",
       "Gender     0\n",
       "dtype: int64"
      ]
     },
     "execution_count": 50,
     "metadata": {},
     "output_type": "execute_result"
    }
   ],
   "source": [
    "df.isnull().sum()"
   ]
  },
  {
   "cell_type": "markdown",
   "id": "bcad05d1-0710-472e-9cb5-86fcf8d72acb",
   "metadata": {},
   "source": [
    "### DATA ANALYSIS"
   ]
  },
  {
   "cell_type": "code",
   "execution_count": 52,
   "id": "4bc9b326-ff25-44bf-9d22-2d04d0b0b57d",
   "metadata": {},
   "outputs": [
    {
     "data": {
      "text/html": [
       "<div>\n",
       "<style scoped>\n",
       "    .dataframe tbody tr th:only-of-type {\n",
       "        vertical-align: middle;\n",
       "    }\n",
       "\n",
       "    .dataframe tbody tr th {\n",
       "        vertical-align: top;\n",
       "    }\n",
       "\n",
       "    .dataframe thead th {\n",
       "        text-align: right;\n",
       "    }\n",
       "</style>\n",
       "<table border=\"1\" class=\"dataframe\">\n",
       "  <thead>\n",
       "    <tr style=\"text-align: right;\">\n",
       "      <th></th>\n",
       "      <th>Company</th>\n",
       "      <th>Age</th>\n",
       "      <th>Salary</th>\n",
       "      <th>Place</th>\n",
       "      <th>Country</th>\n",
       "      <th>Gender</th>\n",
       "    </tr>\n",
       "  </thead>\n",
       "  <tbody>\n",
       "    <tr>\n",
       "      <th>21</th>\n",
       "      <td>Infosys</td>\n",
       "      <td>50.0</td>\n",
       "      <td>3184.0</td>\n",
       "      <td>Delhi</td>\n",
       "      <td>India</td>\n",
       "      <td>0</td>\n",
       "    </tr>\n",
       "    <tr>\n",
       "      <th>32</th>\n",
       "      <td>Infosys</td>\n",
       "      <td>45.0</td>\n",
       "      <td>4034.0</td>\n",
       "      <td>Calcutta</td>\n",
       "      <td>India</td>\n",
       "      <td>0</td>\n",
       "    </tr>\n",
       "    <tr>\n",
       "      <th>39</th>\n",
       "      <td>Infosys</td>\n",
       "      <td>41.0</td>\n",
       "      <td>3000.0</td>\n",
       "      <td>Mumbai</td>\n",
       "      <td>India</td>\n",
       "      <td>0</td>\n",
       "    </tr>\n",
       "    <tr>\n",
       "      <th>50</th>\n",
       "      <td>Infosys</td>\n",
       "      <td>41.0</td>\n",
       "      <td>3000.0</td>\n",
       "      <td>Chennai</td>\n",
       "      <td>India</td>\n",
       "      <td>0</td>\n",
       "    </tr>\n",
       "    <tr>\n",
       "      <th>57</th>\n",
       "      <td>Infosys</td>\n",
       "      <td>51.0</td>\n",
       "      <td>3184.0</td>\n",
       "      <td>Hyderabad</td>\n",
       "      <td>India</td>\n",
       "      <td>0</td>\n",
       "    </tr>\n",
       "    <tr>\n",
       "      <th>68</th>\n",
       "      <td>Infosys</td>\n",
       "      <td>43.0</td>\n",
       "      <td>4034.0</td>\n",
       "      <td>Mumbai</td>\n",
       "      <td>India</td>\n",
       "      <td>0</td>\n",
       "    </tr>\n",
       "    <tr>\n",
       "      <th>75</th>\n",
       "      <td>Infosys</td>\n",
       "      <td>44.0</td>\n",
       "      <td>3000.0</td>\n",
       "      <td>Cochin</td>\n",
       "      <td>India</td>\n",
       "      <td>0</td>\n",
       "    </tr>\n",
       "    <tr>\n",
       "      <th>85</th>\n",
       "      <td>Infosys</td>\n",
       "      <td>41.0</td>\n",
       "      <td>3000.0</td>\n",
       "      <td>Delhi</td>\n",
       "      <td>India</td>\n",
       "      <td>0</td>\n",
       "    </tr>\n",
       "    <tr>\n",
       "      <th>92</th>\n",
       "      <td>Infosys</td>\n",
       "      <td>54.0</td>\n",
       "      <td>3184.0</td>\n",
       "      <td>Mumbai</td>\n",
       "      <td>India</td>\n",
       "      <td>0</td>\n",
       "    </tr>\n",
       "    <tr>\n",
       "      <th>103</th>\n",
       "      <td>Infosys</td>\n",
       "      <td>44.0</td>\n",
       "      <td>4034.0</td>\n",
       "      <td>Delhi</td>\n",
       "      <td>India</td>\n",
       "      <td>0</td>\n",
       "    </tr>\n",
       "    <tr>\n",
       "      <th>121</th>\n",
       "      <td>Infosys</td>\n",
       "      <td>44.0</td>\n",
       "      <td>3234.0</td>\n",
       "      <td>Mumbai</td>\n",
       "      <td>India</td>\n",
       "      <td>0</td>\n",
       "    </tr>\n",
       "    <tr>\n",
       "      <th>128</th>\n",
       "      <td>Infosys</td>\n",
       "      <td>50.0</td>\n",
       "      <td>3184.0</td>\n",
       "      <td>Calcutta</td>\n",
       "      <td>India</td>\n",
       "      <td>0</td>\n",
       "    </tr>\n",
       "    <tr>\n",
       "      <th>135</th>\n",
       "      <td>CTS</td>\n",
       "      <td>44.0</td>\n",
       "      <td>3033.0</td>\n",
       "      <td>Cochin</td>\n",
       "      <td>India</td>\n",
       "      <td>0</td>\n",
       "    </tr>\n",
       "    <tr>\n",
       "      <th>137</th>\n",
       "      <td>Infosys</td>\n",
       "      <td>44.0</td>\n",
       "      <td>4034.0</td>\n",
       "      <td>Hyderabad</td>\n",
       "      <td>India</td>\n",
       "      <td>0</td>\n",
       "    </tr>\n",
       "    <tr>\n",
       "      <th>141</th>\n",
       "      <td>Infosys</td>\n",
       "      <td>44.0</td>\n",
       "      <td>4034.0</td>\n",
       "      <td>Delhi</td>\n",
       "      <td>India</td>\n",
       "      <td>1</td>\n",
       "    </tr>\n",
       "  </tbody>\n",
       "</table>\n",
       "</div>"
      ],
      "text/plain": [
       "     Company   Age  Salary      Place Country  Gender\n",
       "21   Infosys  50.0  3184.0      Delhi   India       0\n",
       "32   Infosys  45.0  4034.0   Calcutta   India       0\n",
       "39   Infosys  41.0  3000.0     Mumbai   India       0\n",
       "50   Infosys  41.0  3000.0    Chennai   India       0\n",
       "57   Infosys  51.0  3184.0  Hyderabad   India       0\n",
       "68   Infosys  43.0  4034.0     Mumbai   India       0\n",
       "75   Infosys  44.0  3000.0     Cochin   India       0\n",
       "85   Infosys  41.0  3000.0      Delhi   India       0\n",
       "92   Infosys  54.0  3184.0     Mumbai   India       0\n",
       "103  Infosys  44.0  4034.0      Delhi   India       0\n",
       "121  Infosys  44.0  3234.0     Mumbai   India       0\n",
       "128  Infosys  50.0  3184.0   Calcutta   India       0\n",
       "135      CTS  44.0  3033.0     Cochin   India       0\n",
       "137  Infosys  44.0  4034.0  Hyderabad   India       0\n",
       "141  Infosys  44.0  4034.0      Delhi   India       1"
      ]
     },
     "execution_count": 52,
     "metadata": {},
     "output_type": "execute_result"
    }
   ],
   "source": [
    "#Filtering the data with age >40 and salary<5000\n",
    "filter_data = df[(df['Age'] > 40) & (df['Salary'] < 5000)]\n",
    "filter_data"
   ]
  },
  {
   "cell_type": "code",
   "execution_count": 61,
   "id": "ed6c0c14-22a1-4193-99c3-c0754399128a",
   "metadata": {},
   "outputs": [
    {
     "data": {
      "image/png": "[encoded data removed]",
      "text/plain": [
       "<Figure size 640x480 with 1 Axes>"
      ]
     },
     "metadata": {},
     "output_type": "display_data"
    }
   ],
   "source": [
    "#Plotting the chart with age and salary\n",
    "\n",
    "#plotting scatter plot\n",
    "plt.scatter(df['Age'], df['Salary'])\n",
    "\n",
    "#Setting the label & title\n",
    "plt.xlabel('Age')\n",
    "plt.ylabel('Salary')\n",
    "plt.title('Age vs Salary')\n",
    "plt.grid(True)\n",
    "\n",
    "#show the plot\n",
    "plt.show()"
   ]
  },
  {
   "cell_type": "code",
   "execution_count": 59,
   "id": "4d446bd0-ae6e-414f-8355-1758d747d65d",
   "metadata": {},
   "outputs": [
    {
     "data": {
      "image/png": "[encoded data removed]",
      "text/plain": [
       "<Figure size 1000x600 with 1 Axes>"
      ]
     },
     "metadata": {},
     "output_type": "display_data"
    }
   ],
   "source": [
    "#Counting the number of people from each place and represent it visually\n",
    "\n",
    "#counting no:of people in each place\n",
    "place_counts = df['Place'].value_counts()\n",
    "\n",
    "# Plotting the bar chart\n",
    "plt.figure(figsize=(10, 6))\n",
    "place_counts.plot(kind='bar')\n",
    "\n",
    "# Setting the labels and title\n",
    "plt.xlabel('Place')\n",
    "plt.ylabel('Number of People')\n",
    "plt.title('Number of People from Each Place')\n",
    "\n",
    "# Showing the plot\n",
    "plt.xticks(rotation=45)  \n",
    "plt.show()"
   ]
  },
  {
   "cell_type": "markdown",
   "id": "6b7cc20c-1c88-4078-af1e-048ab18d50f8",
   "metadata": {},
   "source": [
    "### DATA ENCODING"
   ]
  },
  {
   "cell_type": "markdown",
   "id": "3a80a32a-d0c6-4035-a11d-a045718bd06a",
   "metadata": {},
   "source": [
    "#### 1. One-Hot Encoding"
   ]
  },
  {
   "cell_type": "code",
   "execution_count": 60,
   "id": "2159902e-3af5-4fe8-a694-8fce0fbf0829",
   "metadata": {},
   "outputs": [
    {
     "name": "stdout",
     "output_type": "stream",
     "text": [
      "      Age       Salary  Gender  Company_CTS  Company_Congnizant  \\\n",
      "0    20.0  5283.471074       0        False               False   \n",
      "1    30.0  5283.471074       0        False               False   \n",
      "2    35.0  2300.000000       0        False               False   \n",
      "3    40.0  3000.000000       0        False               False   \n",
      "4    23.0  4000.000000       0        False               False   \n",
      "..    ...          ...     ...          ...                 ...   \n",
      "139  22.0  8202.000000       0        False               False   \n",
      "140  33.0  9024.000000       1        False               False   \n",
      "141  44.0  4034.000000       1        False               False   \n",
      "142  33.0  5034.000000       1        False               False   \n",
      "143  22.0  8202.000000       0        False               False   \n",
      "\n",
      "     Company_Infosys  Company_TCS  Place_Bhopal  Place_Calcutta  \\\n",
      "0              False         True         False           False   \n",
      "1               True        False         False           False   \n",
      "2              False         True         False            True   \n",
      "3               True        False         False           False   \n",
      "4              False         True         False           False   \n",
      "..               ...          ...           ...             ...   \n",
      "139             True        False         False           False   \n",
      "140            False         True         False            True   \n",
      "141             True        False         False           False   \n",
      "142            False         True         False           False   \n",
      "143             True        False         False           False   \n",
      "\n",
      "     Place_Chennai  Place_Cochin  Place_Delhi  Place_Hyderabad  Place_Mumbai  \\\n",
      "0             True         False        False            False         False   \n",
      "1            False         False        False            False          True   \n",
      "2            False         False        False            False         False   \n",
      "3            False         False         True            False         False   \n",
      "4            False         False        False            False          True   \n",
      "..             ...           ...          ...              ...           ...   \n",
      "139          False         False        False            False          True   \n",
      "140          False         False        False            False         False   \n",
      "141          False         False         True            False         False   \n",
      "142          False         False        False            False          True   \n",
      "143          False          True        False            False         False   \n",
      "\n",
      "     Place_Nagpur  Place_Noida  Place_Podicherry  Place_Pune  Country_India  \n",
      "0           False        False             False       False           True  \n",
      "1           False        False             False       False           True  \n",
      "2           False        False             False       False           True  \n",
      "3           False        False             False       False           True  \n",
      "4           False        False             False       False           True  \n",
      "..            ...          ...               ...         ...            ...  \n",
      "139         False        False             False       False           True  \n",
      "140         False        False             False       False           True  \n",
      "141         False        False             False       False           True  \n",
      "142         False        False             False       False           True  \n",
      "143         False        False             False       False           True  \n",
      "\n",
      "[144 rows x 19 columns]\n"
     ]
    }
   ],
   "source": [
    "#using get_dummies function\n",
    "\n",
    "df_one_hot_encoded = pd.get_dummies(data = df, columns = [\"Company\", \"Place\",\"Country\"])\n",
    "\n",
    "print(df_one_hot_encoded )"
   ]
  },
  {
   "cell_type": "code",
   "execution_count": 63,
   "id": "ae6727f6-5af7-4d7b-b2e3-a07b377e9d2f",
   "metadata": {},
   "outputs": [
    {
     "name": "stdout",
     "output_type": "stream",
     "text": [
      "['is_TCS', 'is_Infosys', 'is_CTS', 'is_Congnizant', 'is_Chennai', 'is_Mumbai', 'is_Calcutta', 'is_Delhi', 'is_Podicherry', 'is_Cochin', 'is_Noida', 'is_Hyderabad', 'is_Bhopal', 'is_Nagpur', 'is_Pune', 'is_India']\n",
      "[[0. 0. 0. ... 0. 0. 1.]\n",
      " [0. 0. 1. ... 0. 0. 1.]\n",
      " [0. 0. 0. ... 0. 0. 1.]\n",
      " ...\n",
      " [0. 0. 1. ... 0. 0. 1.]\n",
      " [0. 0. 0. ... 0. 0. 1.]\n",
      " [0. 0. 1. ... 0. 0. 1.]]\n",
      "     is_TCS  is_Infosys  is_CTS  is_Congnizant  is_Chennai  is_Mumbai  \\\n",
      "0       0.0         0.0     0.0            1.0         0.0        0.0   \n",
      "1       0.0         0.0     1.0            0.0         0.0        0.0   \n",
      "2       0.0         0.0     0.0            1.0         0.0        1.0   \n",
      "3       0.0         0.0     1.0            0.0         0.0        0.0   \n",
      "4       0.0         0.0     0.0            1.0         0.0        0.0   \n",
      "..      ...         ...     ...            ...         ...        ...   \n",
      "139     0.0         0.0     1.0            0.0         0.0        0.0   \n",
      "140     0.0         0.0     0.0            1.0         0.0        1.0   \n",
      "141     0.0         0.0     1.0            0.0         0.0        0.0   \n",
      "142     0.0         0.0     0.0            1.0         0.0        0.0   \n",
      "143     0.0         0.0     1.0            0.0         0.0        0.0   \n",
      "\n",
      "     is_Calcutta  is_Delhi  is_Podicherry  is_Cochin  is_Noida  is_Hyderabad  \\\n",
      "0            1.0       0.0            0.0        0.0       0.0           0.0   \n",
      "1            0.0       0.0            0.0        0.0       1.0           0.0   \n",
      "2            0.0       0.0            0.0        0.0       0.0           0.0   \n",
      "3            0.0       0.0            1.0        0.0       0.0           0.0   \n",
      "4            0.0       0.0            0.0        0.0       1.0           0.0   \n",
      "..           ...       ...            ...        ...       ...           ...   \n",
      "139          0.0       0.0            0.0        0.0       1.0           0.0   \n",
      "140          0.0       0.0            0.0        0.0       0.0           0.0   \n",
      "141          0.0       0.0            1.0        0.0       0.0           0.0   \n",
      "142          0.0       0.0            0.0        0.0       1.0           0.0   \n",
      "143          0.0       1.0            0.0        0.0       0.0           0.0   \n",
      "\n",
      "     is_Bhopal  is_Nagpur  is_Pune  is_India  \n",
      "0          0.0        0.0      0.0       1.0  \n",
      "1          0.0        0.0      0.0       1.0  \n",
      "2          0.0        0.0      0.0       1.0  \n",
      "3          0.0        0.0      0.0       1.0  \n",
      "4          0.0        0.0      0.0       1.0  \n",
      "..         ...        ...      ...       ...  \n",
      "139        0.0        0.0      0.0       1.0  \n",
      "140        0.0        0.0      0.0       1.0  \n",
      "141        0.0        0.0      0.0       1.0  \n",
      "142        0.0        0.0      0.0       1.0  \n",
      "143        0.0        0.0      0.0       1.0  \n",
      "\n",
      "[144 rows x 16 columns]\n",
      "     Company   Age       Salary     Place Country  Gender  is_TCS  is_Infosys  \\\n",
      "0        TCS  20.0  5283.471074   Chennai   India       0     0.0         0.0   \n",
      "1    Infosys  30.0  5283.471074    Mumbai   India       0     0.0         0.0   \n",
      "2        TCS  35.0  2300.000000  Calcutta   India       0     0.0         0.0   \n",
      "3    Infosys  40.0  3000.000000     Delhi   India       0     0.0         0.0   \n",
      "4        TCS  23.0  4000.000000    Mumbai   India       0     0.0         0.0   \n",
      "..       ...   ...          ...       ...     ...     ...     ...         ...   \n",
      "139  Infosys  22.0  8202.000000    Mumbai   India       0     0.0         0.0   \n",
      "140      TCS  33.0  9024.000000  Calcutta   India       1     0.0         0.0   \n",
      "141  Infosys  44.0  4034.000000     Delhi   India       1     0.0         0.0   \n",
      "142      TCS  33.0  5034.000000    Mumbai   India       1     0.0         0.0   \n",
      "143  Infosys  22.0  8202.000000    Cochin   India       0     0.0         0.0   \n",
      "\n",
      "     is_CTS  is_Congnizant  ...  is_Calcutta  is_Delhi  is_Podicherry  \\\n",
      "0       0.0            1.0  ...          1.0       0.0            0.0   \n",
      "1       1.0            0.0  ...          0.0       0.0            0.0   \n",
      "2       0.0            1.0  ...          0.0       0.0            0.0   \n",
      "3       1.0            0.0  ...          0.0       0.0            1.0   \n",
      "4       0.0            1.0  ...          0.0       0.0            0.0   \n",
      "..      ...            ...  ...          ...       ...            ...   \n",
      "139     1.0            0.0  ...          0.0       0.0            0.0   \n",
      "140     0.0            1.0  ...          0.0       0.0            0.0   \n",
      "141     1.0            0.0  ...          0.0       0.0            1.0   \n",
      "142     0.0            1.0  ...          0.0       0.0            0.0   \n",
      "143     1.0            0.0  ...          0.0       1.0            0.0   \n",
      "\n",
      "     is_Cochin  is_Noida  is_Hyderabad  is_Bhopal  is_Nagpur  is_Pune  \\\n",
      "0          0.0       0.0           0.0        0.0        0.0      0.0   \n",
      "1          0.0       1.0           0.0        0.0        0.0      0.0   \n",
      "2          0.0       0.0           0.0        0.0        0.0      0.0   \n",
      "3          0.0       0.0           0.0        0.0        0.0      0.0   \n",
      "4          0.0       1.0           0.0        0.0        0.0      0.0   \n",
      "..         ...       ...           ...        ...        ...      ...   \n",
      "139        0.0       1.0           0.0        0.0        0.0      0.0   \n",
      "140        0.0       0.0           0.0        0.0        0.0      0.0   \n",
      "141        0.0       0.0           0.0        0.0        0.0      0.0   \n",
      "142        0.0       1.0           0.0        0.0        0.0      0.0   \n",
      "143        0.0       0.0           0.0        0.0        0.0      0.0   \n",
      "\n",
      "     is_India  \n",
      "0         1.0  \n",
      "1         1.0  \n",
      "2         1.0  \n",
      "3         1.0  \n",
      "4         1.0  \n",
      "..        ...  \n",
      "139       1.0  \n",
      "140       1.0  \n",
      "141       1.0  \n",
      "142       1.0  \n",
      "143       1.0  \n",
      "\n",
      "[144 rows x 22 columns]\n"
     ]
    }
   ],
   "source": [
    "#using OneHotEncoder Function\n",
    "\n",
    "from sklearn.preprocessing import OneHotEncoder\n",
    "\n",
    "\n",
    "cols_to_encode = [\"Company\", \"Place\",\"Country\"]\n",
    "new_encoded_cols = []\n",
    "\n",
    "\n",
    "# Create a list of new columns names\n",
    "for col in cols_to_encode:\n",
    "    new_encoded_cols += [f\"is_{category}\" for category in df[col].unique().tolist()]\n",
    "\n",
    "print(new_encoded_cols)\n",
    "#['is_TCS', 'is_Infosys', 'is_CTS', 'is_Congnizant', 'is_Chennai', 'is_Mumbai', 'is_Calcutta', 'is_Delhi', 'is_Podicherry', 'is_Cochin', 'is_Noida', 'is_Hyderabad', 'is_Bhopal', 'is_Nagpur', 'is_Pune', 'is_India']\n",
    "\n",
    "\n",
    "# Inititalize and fit One Hot Encoder class from sklearn\n",
    "one_hot_encoder = OneHotEncoder(sparse_output = False,handle_unknown = 'ignore')\n",
    "encoded_cols = one_hot_encoder.fit_transform(df[cols_to_encode])\n",
    "print(encoded_cols)\n",
    "\n",
    "# As the output of the above transformer would be a sparse matrix, we need to convert it back to Pandas dataframe\n",
    "df_encoded = pd.DataFrame(encoded_cols, columns = new_encoded_cols)\n",
    "print(df_encoded)\n",
    "df_one_hot_encoded = df.join(df_encoded)\n",
    "\n",
    "print(df_one_hot_encoded)\n"
   ]
  },
  {
   "cell_type": "markdown",
   "id": "5c402993-c7ec-4750-bc38-f40febaa57c6",
   "metadata": {},
   "source": [
    "#### 2.Label Encoding"
   ]
  },
  {
   "cell_type": "code",
   "execution_count": 64,
   "id": "bc6665ab-6b07-4867-916b-5860254f1518",
   "metadata": {},
   "outputs": [
    {
     "name": "stdout",
     "output_type": "stream",
     "text": [
      "     Company   Age       Salary  Place  Country  Gender\n",
      "0          3  20.0  5283.471074      2        0       0\n",
      "1          2  30.0  5283.471074      6        0       0\n",
      "2          3  35.0  2300.000000      1        0       0\n",
      "3          2  40.0  3000.000000      4        0       0\n",
      "4          3  23.0  4000.000000      6        0       0\n",
      "..       ...   ...          ...    ...      ...     ...\n",
      "139        2  22.0  8202.000000      6        0       0\n",
      "140        3  33.0  9024.000000      1        0       1\n",
      "141        2  44.0  4034.000000      4        0       1\n",
      "142        3  33.0  5034.000000      6        0       1\n",
      "143        2  22.0  8202.000000      3        0       0\n",
      "\n",
      "[144 rows x 6 columns]\n"
     ]
    }
   ],
   "source": [
    "#Label Encoding\n",
    "\n",
    "from sklearn.preprocessing import LabelEncoder\n",
    "\n",
    "cols_to_encode = [\"Company\", \"Place\", \"Country\"]\n",
    "\n",
    "#label_encoder is the object of LabelEncode\n",
    "label_encoder = LabelEncoder()\n",
    "\n",
    "# Initialize a new DataFrame to store the encoded columns\n",
    "df_label_encoded = df.copy()\n",
    "\n",
    "# Encode each column in cols_to_encode\n",
    "for col in cols_to_encode:\n",
    "    df_label_encoded[col] = label_encoder.fit_transform(df[col])\n",
    "\n",
    "print(df_label_encoded)"
   ]
  },
  {
   "cell_type": "markdown",
   "id": "f3284315-4eaf-40d0-955d-67d0238d29be",
   "metadata": {},
   "source": [
    "### FEATURE SCALING"
   ]
  },
  {
   "cell_type": "markdown",
   "id": "be2f4a51-e9aa-4309-a931-a3a2c229aeb3",
   "metadata": {},
   "source": [
    "#### 1. Standard Scaler"
   ]
  },
  {
   "cell_type": "code",
   "execution_count": 65,
   "id": "a2b7f8ba-d465-4a9a-9d27-cfdc9dfcb14c",
   "metadata": {},
   "outputs": [
    {
     "name": "stdout",
     "output_type": "stream",
     "text": [
      "     Company       Age    Salary     Place Country  Gender\n",
      "0        TCS -1.484676  0.000000   Chennai   India       0\n",
      "1    Infosys -0.267174  0.000000    Mumbai   India       0\n",
      "2        TCS  0.341577 -1.264122  Calcutta   India       0\n",
      "3    Infosys  0.950328 -0.967526     Delhi   India       0\n",
      "4        TCS -1.119426 -0.543818    Mumbai   India       0\n",
      "..       ...       ...       ...       ...     ...     ...\n",
      "139  Infosys -1.241176  1.236606    Mumbai   India       0\n",
      "140      TCS  0.098077  1.584894  Calcutta   India       1\n",
      "141  Infosys  1.437329 -0.529412     Delhi   India       1\n",
      "142      TCS  0.098077 -0.105703    Mumbai   India       1\n",
      "143  Infosys -1.241176  1.236606    Cochin   India       0\n",
      "\n",
      "[144 rows x 6 columns]\n"
     ]
    }
   ],
   "source": [
    "from sklearn.preprocessing import StandardScaler\n",
    "\n",
    "Columns_to_Scale=df[['Age','Salary']]\n",
    "# Create a scaler object\n",
    "scaler = StandardScaler()\n",
    "\n",
    "# Fit the scaler on the data\n",
    "scaler.fit(Columns_to_Scale)\n",
    "\n",
    "# Transform the data\n",
    "scaled_data = scaler.transform(Columns_to_Scale)\n",
    "\n",
    "# Convert scaled data to DataFrame\n",
    "scaled_df = pd.DataFrame(scaled_data, columns=['Age', 'Salary'])\n",
    "\n",
    "# Initialize a new DataFrame to store after applying standard scaler\n",
    "df_standard = df.copy()\n",
    "\n",
    "# Replace scaled columns in the original DataFrame\n",
    "df_standard[['Age', 'Salary']] = scaled_df\n",
    "\n",
    "# Print the DataFrame with scaled columns replaced by original values\n",
    "print(df_standard)\n"
   ]
  },
  {
   "cell_type": "code",
   "execution_count": 66,
   "id": "38746528-46e7-4c8e-b222-11759bb5a130",
   "metadata": {},
   "outputs": [
    {
     "name": "stdout",
     "output_type": "stream",
     "text": [
      "     Company       Age    Salary  Place  Country  Gender\n",
      "0          3 -1.484676  0.000000      2        0       0\n",
      "1          2 -0.267174  0.000000      6        0       0\n",
      "2          3  0.341577 -1.264122      1        0       0\n",
      "3          2  0.950328 -0.967526      4        0       0\n",
      "4          3 -1.119426 -0.543818      6        0       0\n",
      "..       ...       ...       ...    ...      ...     ...\n",
      "139        2 -1.241176  1.236606      6        0       0\n",
      "140        3  0.098077  1.584894      1        0       1\n",
      "141        2  1.437329 -0.529412      4        0       1\n",
      "142        3  0.098077 -0.105703      6        0       1\n",
      "143        2 -1.241176  1.236606      3        0       0\n",
      "\n",
      "[144 rows x 6 columns]\n"
     ]
    }
   ],
   "source": [
    "#dataframe after label encoding & standard scaling\n",
    "\n",
    "\n",
    "# Initialize a new DataFrame to store after applying standard scaler\n",
    "df_standard = df_label_encoded.copy()\n",
    "\n",
    "# Replace scaled columns in the original DataFrame\n",
    "df_standard[['Age', 'Salary']] = scaled_df\n",
    "\n",
    "# Print the DataFrame with scaled columns replaced by original values\n",
    "print(df_standard)"
   ]
  },
  {
   "cell_type": "code",
   "execution_count": 67,
   "id": "1b308de8-11e1-4487-97e5-d1b3998af16b",
   "metadata": {},
   "outputs": [
    {
     "name": "stdout",
     "output_type": "stream",
     "text": [
      "     Company       Age    Salary     Place Country  Gender  is_TCS  \\\n",
      "0        TCS -1.484676  0.000000   Chennai   India       0     0.0   \n",
      "1    Infosys -0.267174  0.000000    Mumbai   India       0     0.0   \n",
      "2        TCS  0.341577 -1.264122  Calcutta   India       0     0.0   \n",
      "3    Infosys  0.950328 -0.967526     Delhi   India       0     0.0   \n",
      "4        TCS -1.119426 -0.543818    Mumbai   India       0     0.0   \n",
      "..       ...       ...       ...       ...     ...     ...     ...   \n",
      "139  Infosys -1.241176  1.236606    Mumbai   India       0     0.0   \n",
      "140      TCS  0.098077  1.584894  Calcutta   India       1     0.0   \n",
      "141  Infosys  1.437329 -0.529412     Delhi   India       1     0.0   \n",
      "142      TCS  0.098077 -0.105703    Mumbai   India       1     0.0   \n",
      "143  Infosys -1.241176  1.236606    Cochin   India       0     0.0   \n",
      "\n",
      "     is_Infosys  is_CTS  is_Congnizant  ...  is_Calcutta  is_Delhi  \\\n",
      "0           0.0     0.0            1.0  ...          1.0       0.0   \n",
      "1           0.0     1.0            0.0  ...          0.0       0.0   \n",
      "2           0.0     0.0            1.0  ...          0.0       0.0   \n",
      "3           0.0     1.0            0.0  ...          0.0       0.0   \n",
      "4           0.0     0.0            1.0  ...          0.0       0.0   \n",
      "..          ...     ...            ...  ...          ...       ...   \n",
      "139         0.0     1.0            0.0  ...          0.0       0.0   \n",
      "140         0.0     0.0            1.0  ...          0.0       0.0   \n",
      "141         0.0     1.0            0.0  ...          0.0       0.0   \n",
      "142         0.0     0.0            1.0  ...          0.0       0.0   \n",
      "143         0.0     1.0            0.0  ...          0.0       1.0   \n",
      "\n",
      "     is_Podicherry  is_Cochin  is_Noida  is_Hyderabad  is_Bhopal  is_Nagpur  \\\n",
      "0              0.0        0.0       0.0           0.0        0.0        0.0   \n",
      "1              0.0        0.0       1.0           0.0        0.0        0.0   \n",
      "2              0.0        0.0       0.0           0.0        0.0        0.0   \n",
      "3              1.0        0.0       0.0           0.0        0.0        0.0   \n",
      "4              0.0        0.0       1.0           0.0        0.0        0.0   \n",
      "..             ...        ...       ...           ...        ...        ...   \n",
      "139            0.0        0.0       1.0           0.0        0.0        0.0   \n",
      "140            0.0        0.0       0.0           0.0        0.0        0.0   \n",
      "141            1.0        0.0       0.0           0.0        0.0        0.0   \n",
      "142            0.0        0.0       1.0           0.0        0.0        0.0   \n",
      "143            0.0        0.0       0.0           0.0        0.0        0.0   \n",
      "\n",
      "     is_Pune  is_India  \n",
      "0        0.0       1.0  \n",
      "1        0.0       1.0  \n",
      "2        0.0       1.0  \n",
      "3        0.0       1.0  \n",
      "4        0.0       1.0  \n",
      "..       ...       ...  \n",
      "139      0.0       1.0  \n",
      "140      0.0       1.0  \n",
      "141      0.0       1.0  \n",
      "142      0.0       1.0  \n",
      "143      0.0       1.0  \n",
      "\n",
      "[144 rows x 22 columns]\n"
     ]
    }
   ],
   "source": [
    "#dataframe after OneHotEncoding & standard scaling\n",
    "\n",
    "# Initialize a new DataFrame to store after applying standard scaler\n",
    "df_standard = df_one_hot_encoded.copy()\n",
    "\n",
    "# Replace scaled columns in the original DataFrame\n",
    "df_standard[['Age', 'Salary']] = scaled_df\n",
    "\n",
    "# Print the DataFrame with scaled columns replaced by original values\n",
    "print(df_standard)"
   ]
  },
  {
   "cell_type": "markdown",
   "id": "8506c437-e70e-47e3-b340-a1de44c28017",
   "metadata": {},
   "source": [
    "#### 2.MinMAx Scaler"
   ]
  },
  {
   "cell_type": "code",
   "execution_count": 68,
   "id": "f0363539-4a70-4733-8cb2-0399d0600855",
   "metadata": {},
   "outputs": [
    {
     "name": "stdout",
     "output_type": "stream",
     "text": [
      "     Company       Age    Salary     Place Country  Gender\n",
      "0        TCS  0.081081  0.477350   Chennai   India       0\n",
      "1    Infosys  0.351351  0.477350    Mumbai   India       0\n",
      "2        TCS  0.486486  0.137817  Calcutta   India       0\n",
      "3    Infosys  0.621622  0.217480     Delhi   India       0\n",
      "4        TCS  0.162162  0.331285    Mumbai   India       0\n",
      "..       ...       ...       ...       ...     ...     ...\n",
      "139  Infosys  0.135135  0.809491    Mumbai   India       0\n",
      "140      TCS  0.432432  0.903039  Calcutta   India       1\n",
      "141  Infosys  0.729730  0.335154     Delhi   India       1\n",
      "142      TCS  0.432432  0.448959    Mumbai   India       1\n",
      "143  Infosys  0.135135  0.809491    Cochin   India       0\n",
      "\n",
      "[144 rows x 6 columns]\n"
     ]
    }
   ],
   "source": [
    "import pandas as pd\n",
    "from sklearn.preprocessing import MinMaxScaler\n",
    "\n",
    "Columns_to_Scale=df[['Age','Salary']]\n",
    "\n",
    "# Create a scaler object\n",
    "scaler = MinMaxScaler()\n",
    "\n",
    "# Fit the scaler on the data\n",
    "scaler.fit(Columns_to_Scale)\n",
    "\n",
    "# Transform the data\n",
    "scaled_data = scaler.transform(Columns_to_Scale)\n",
    "\n",
    "# Convert scaled data to DataFrame\n",
    "scaled_df = pd.DataFrame(scaled_data, columns=['Age', 'Salary'])\n",
    "\n",
    "# Initialize a new DataFrame to store after applying standard scaler\n",
    "df_minmax = df.copy()\n",
    "\n",
    "# Replace scaled columns in the original DataFrame\n",
    "df_minmax[['Age', 'Salary']] = scaled_df\n",
    "\n",
    "# Print the DataFrame with scaled columns replaced by original values\n",
    "print(df_minmax)\n"
   ]
  },
  {
   "cell_type": "code",
   "execution_count": 69,
   "id": "40265215-a569-46e8-8d16-48bfc8746b32",
   "metadata": {},
   "outputs": [
    {
     "name": "stdout",
     "output_type": "stream",
     "text": [
      "     Company       Age    Salary  Place  Country  Gender\n",
      "0          3  0.081081  0.477350      2        0       0\n",
      "1          2  0.351351  0.477350      6        0       0\n",
      "2          3  0.486486  0.137817      1        0       0\n",
      "3          2  0.621622  0.217480      4        0       0\n",
      "4          3  0.162162  0.331285      6        0       0\n",
      "..       ...       ...       ...    ...      ...     ...\n",
      "139        2  0.135135  0.809491      6        0       0\n",
      "140        3  0.432432  0.903039      1        0       1\n",
      "141        2  0.729730  0.335154      4        0       1\n",
      "142        3  0.432432  0.448959      6        0       1\n",
      "143        2  0.135135  0.809491      3        0       0\n",
      "\n",
      "[144 rows x 6 columns]\n"
     ]
    }
   ],
   "source": [
    "#dataframe after label encoding & minmax scaling\n",
    "\n",
    "# Initialize a new DataFrame to store after applying standard scaler\n",
    "df_minmax = df_label_encoded.copy()\n",
    "\n",
    "# Replace scaled columns in the original DataFrame\n",
    "df_minmax[['Age', 'Salary']] = scaled_df\n",
    "\n",
    "# Print the DataFrame with scaled columns replaced by original values\n",
    "print(df_minmax)"
   ]
  },
  {
   "cell_type": "code",
   "execution_count": 70,
   "id": "1fad55b4-fb4a-4545-8196-8ca2cf536163",
   "metadata": {},
   "outputs": [
    {
     "name": "stdout",
     "output_type": "stream",
     "text": [
      "     Company       Age    Salary     Place Country  Gender  is_TCS  \\\n",
      "0        TCS  0.081081  0.477350   Chennai   India       0     0.0   \n",
      "1    Infosys  0.351351  0.477350    Mumbai   India       0     0.0   \n",
      "2        TCS  0.486486  0.137817  Calcutta   India       0     0.0   \n",
      "3    Infosys  0.621622  0.217480     Delhi   India       0     0.0   \n",
      "4        TCS  0.162162  0.331285    Mumbai   India       0     0.0   \n",
      "..       ...       ...       ...       ...     ...     ...     ...   \n",
      "139  Infosys  0.135135  0.809491    Mumbai   India       0     0.0   \n",
      "140      TCS  0.432432  0.903039  Calcutta   India       1     0.0   \n",
      "141  Infosys  0.729730  0.335154     Delhi   India       1     0.0   \n",
      "142      TCS  0.432432  0.448959    Mumbai   India       1     0.0   \n",
      "143  Infosys  0.135135  0.809491    Cochin   India       0     0.0   \n",
      "\n",
      "     is_Infosys  is_CTS  is_Congnizant  ...  is_Calcutta  is_Delhi  \\\n",
      "0           0.0     0.0            1.0  ...          1.0       0.0   \n",
      "1           0.0     1.0            0.0  ...          0.0       0.0   \n",
      "2           0.0     0.0            1.0  ...          0.0       0.0   \n",
      "3           0.0     1.0            0.0  ...          0.0       0.0   \n",
      "4           0.0     0.0            1.0  ...          0.0       0.0   \n",
      "..          ...     ...            ...  ...          ...       ...   \n",
      "139         0.0     1.0            0.0  ...          0.0       0.0   \n",
      "140         0.0     0.0            1.0  ...          0.0       0.0   \n",
      "141         0.0     1.0            0.0  ...          0.0       0.0   \n",
      "142         0.0     0.0            1.0  ...          0.0       0.0   \n",
      "143         0.0     1.0            0.0  ...          0.0       1.0   \n",
      "\n",
      "     is_Podicherry  is_Cochin  is_Noida  is_Hyderabad  is_Bhopal  is_Nagpur  \\\n",
      "0              0.0        0.0       0.0           0.0        0.0        0.0   \n",
      "1              0.0        0.0       1.0           0.0        0.0        0.0   \n",
      "2              0.0        0.0       0.0           0.0        0.0        0.0   \n",
      "3              1.0        0.0       0.0           0.0        0.0        0.0   \n",
      "4              0.0        0.0       1.0           0.0        0.0        0.0   \n",
      "..             ...        ...       ...           ...        ...        ...   \n",
      "139            0.0        0.0       1.0           0.0        0.0        0.0   \n",
      "140            0.0        0.0       0.0           0.0        0.0        0.0   \n",
      "141            1.0        0.0       0.0           0.0        0.0        0.0   \n",
      "142            0.0        0.0       1.0           0.0        0.0        0.0   \n",
      "143            0.0        0.0       0.0           0.0        0.0        0.0   \n",
      "\n",
      "     is_Pune  is_India  \n",
      "0        0.0       1.0  \n",
      "1        0.0       1.0  \n",
      "2        0.0       1.0  \n",
      "3        0.0       1.0  \n",
      "4        0.0       1.0  \n",
      "..       ...       ...  \n",
      "139      0.0       1.0  \n",
      "140      0.0       1.0  \n",
      "141      0.0       1.0  \n",
      "142      0.0       1.0  \n",
      "143      0.0       1.0  \n",
      "\n",
      "[144 rows x 22 columns]\n"
     ]
    }
   ],
   "source": [
    "#dataframe after OneHotEncoding & minmax scaling\n",
    "\n",
    "# Initialize a new DataFrame to store after applying standard scaler\n",
    "df_minmax = df_one_hot_encoded.copy()\n",
    "\n",
    "# Replace scaled columns in the original DataFrame\n",
    "df_minmax[['Age', 'Salary']] = scaled_df\n",
    "\n",
    "# Print the DataFrame with scaled columns replaced by original values\n",
    "print(df_minmax)"
   ]
  },
  {
   "cell_type": "code",
   "execution_count": null,
   "id": "64832c93-d239-467c-b4ba-876d6dc3ecef",
   "metadata": {},
   "outputs": [],
   "source": []
  }
 ],
 "metadata": {
  "kernelspec": {
   "display_name": "Python 3 (ipykernel)",
   "language": "python",
   "name": "python3"
  },
  "language_info": {
   "codemirror_mode": {
    "name": "ipython",
    "version": 3
   },
   "file_extension": ".py",
   "mimetype": "text/x-python",
   "name": "python",
   "nbconvert_exporter": "python",
   "pygments_lexer": "ipython3",
   "version": "3.11.9"
  }
 },
 "nbformat": 4,
 "nbformat_minor": 5
}
